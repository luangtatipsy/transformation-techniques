{
 "metadata": {
  "language_info": {
   "codemirror_mode": {
    "name": "ipython",
    "version": 3
   },
   "file_extension": ".py",
   "mimetype": "text/x-python",
   "name": "python",
   "nbconvert_exporter": "python",
   "pygments_lexer": "ipython3",
   "version": "3.8.7-final"
  },
  "orig_nbformat": 2,
  "kernelspec": {
   "name": "python3",
   "display_name": "Python 3.8.7 64-bit ('env')",
   "metadata": {
    "interpreter": {
     "hash": "62680b2384a9a125517096f0771dc801938f13521b09c14e79437325133d3caa"
    }
   }
  }
 },
 "nbformat": 4,
 "nbformat_minor": 2,
 "cells": [
  {
   "cell_type": "code",
   "execution_count": 1,
   "metadata": {},
   "outputs": [
    {
     "output_type": "stream",
     "name": "stdout",
     "text": [
      "INFO: Pandarallel will run on 4 workers.\nINFO: Pandarallel will use standard multiprocessing data transfer (pipe) to transfer data between the main process and workers.\n"
     ]
    }
   ],
   "source": [
    "import warnings\n",
    "warnings.filterwarnings('ignore')\n",
    "\n",
    "import numpy as np\n",
    "import pandas as pd\n",
    "pd.set_option('display.max_colwidth', None)\n",
    "\n",
    "from sklearn.feature_extraction.text import CountVectorizer, TfidfVectorizer\n",
    "from sklearn.pipeline import make_pipeline\n",
    "from sklearn.linear_model import LogisticRegression\n",
    "from sklearn.model_selection import train_test_split\n",
    "from sklearn.metrics import classification_report\n",
    "\n",
    "from gensim.models import Word2Vec\n",
    "\n",
    "from pandarallel import pandarallel\n",
    "pandarallel.initialize()\n",
    "\n",
    "from preprocessing import preprocess\n",
    "from tokenizer import tokenize\n",
    "from utils import read_file, dummy\n",
    "from pipeline import ThaiPreprocessor, ThaiTokenizer, MeanEmbeddingVectorizer"
   ]
  },
  {
   "cell_type": "code",
   "execution_count": 2,
   "metadata": {},
   "outputs": [],
   "source": [
    "SEED = 3"
   ]
  },
  {
   "source": [
    "# WISESIGHT Sentiment Dataset"
   ],
   "cell_type": "markdown",
   "metadata": {}
  },
  {
   "cell_type": "code",
   "execution_count": 3,
   "metadata": {},
   "outputs": [],
   "source": [
    "pos_msgs = read_file(\"datasets/wisesight-sentiment/pos.txt\")\n",
    "neu_msgs = read_file(\"datasets/wisesight-sentiment/neu.txt\")\n",
    "neg_msgs = read_file(\"datasets/wisesight-sentiment/neg.txt\")"
   ]
  },
  {
   "cell_type": "code",
   "execution_count": 4,
   "metadata": {},
   "outputs": [],
   "source": [
    "ws_df = pd.DataFrame(columns=[\"text\", \"sentiment\"])\n",
    "\n",
    "pos_df = pd.DataFrame(data={\"text\": pos_msgs, \"sentiment\": \"positive\"})\n",
    "neu_df = pd.DataFrame(data={\"text\": neu_msgs, \"sentiment\": \"neutral\"})\n",
    "neg_df = pd.DataFrame(data={\"text\": neg_msgs, \"sentiment\": \"negative\"})\n",
    "\n",
    "ws_df = ws_df.append(pos_df, ignore_index=True)\n",
    "ws_df = ws_df.append(neu_df, ignore_index=True)\n",
    "ws_df = ws_df.append(neg_df, ignore_index=True)"
   ]
  },
  {
   "source": [
    "## Data Cleansing\n",
    "In order to ignore emoticon and emoji, it has to be preprocessed each message, and remove all of empty string out of our dataset."
   ],
   "cell_type": "markdown",
   "metadata": {}
  },
  {
   "cell_type": "code",
   "execution_count": 5,
   "metadata": {},
   "outputs": [
    {
     "output_type": "stream",
     "name": "stdout",
     "text": [
      "CPU times: user 117 ms, sys: 86.9 ms, total: 204 ms\nWall time: 50.7 s\n"
     ]
    }
   ],
   "source": [
    "%time ws_df['preprocessed_text'] = ws_df['text'].parallel_apply(preprocess)"
   ]
  },
  {
   "cell_type": "code",
   "execution_count": 6,
   "metadata": {},
   "outputs": [],
   "source": [
    "mask = ws_df['preprocessed_text'] == ''\n",
    "ws_df.loc[mask, 'preprocessed_text'] = np.nan"
   ]
  },
  {
   "cell_type": "code",
   "execution_count": 7,
   "metadata": {},
   "outputs": [],
   "source": [
    "ws_df.dropna(subset=['preprocessed_text'], inplace=True)"
   ]
  },
  {
   "cell_type": "code",
   "execution_count": 8,
   "metadata": {},
   "outputs": [
    {
     "output_type": "execute_result",
     "data": {
      "text/plain": [
       "                                                                                                                                                                                                                                                                                                                                                                                                                                                                                                                                                                                                                                                                                                                                                                                                                                                    text  \\\n",
       "9785                                                                                                                                                                                                                                                                                                                                                                                                                                                                                                                                                                                                                                                                                                                                                                                                                                 MU-X THE ICONIC😊😊😊😊   \n",
       "3211                                                                                                                                                                                                                                                                                                                                                                                                                                                                                                                                                                                                                                                                                                                                                                                                          กูไม่กินเบียร์ กินแค่285 B52 Smirnoff โชจู   \n",
       "15585                                                                                                                                                                                                                                                                                                                                                                                                                                                                                                                                                                                                                                                                                                                                         ความสวยกินกันไม่ลงจริงๆ....เทียบสเป็ค Toyota C-HR และ Honda HR-V 2018 รุ่นท็อปทั้งคู่ อ็อพชั่นใครแน่นกว่า?   \n",
       "6072                                                                                                                                                                                                                                                                                                                                                                                                                                                                                                                                                                                                                                                                                                                                                                                                                                           พาแม่ไปซิ   \n",
       "26087                                                                                                                                                                                                                                                                                                                                                                                      ม่ายๆละคะ. ขนาดผ้าอนามัยแบบสอดยังใช้ไม่ได้ อันนี้ใหญ่กว่า. จะใส่ยังไง. ใช้เสร็จมีการนำมาใช้อีกไม่เอา หรอก. อีกอย่างสรีระ คนไทยกับต่างชาติไม่เหมือนกันนะ ความยืดหยุ่นเค้าอจมีเ้ยอะกว่า. จะสอดใส่ยังไงก้อได้ แต่คนไทยคงไม่เหมาะ. ใส่แบบผ้าอนามัย แบบเดิมดีอยู่ละคะ. ยังไง4-5ชม.เราก้อ. เราก้อเข้าห้องน้ำอยู่แล้ว. เราเป็นคนแพ้ผ้าอนามัย. ทุกเดือนที่เป็น. จะเป็็นผื่น. แต่พอมีแบบ นุ่มนวลต่อผิว จะเลือกใช้ถึงราคาจะสูงกว่าแต่ พอเมนหายไม่ต้องมารักษาผื่นแพ้อีก.   \n",
       "18985                                                                                                                                                                                                                เอลเดอร์เบอร์รี่ เป็นผลเบอร์รี่ขนาดเล็กเป็นพวงสี่ม่วงเข้ม มีถิ่นกำเนิดในยุโรป อเมริกาเหนือ และเอเชีย ซึ่งผลไม้นี้ประกอบด้วย สารแอนตี้ออกซิแดนท์ที่แตกต่างกันสูงถึง 60 ชนิด ทำให้มีผลในการรักษาสุขภาพของหัวใจและหลอดเลือดหัวใจได้อย่างดี และกระตุ้นระบบภูมิคุ้มกัน และมีสารอาหารที่จำเป็นต่อระบบภูมิคุ้มกันของร่างกาย โดยมีวิตามินซี กรดผลไม้และน้ำมันที่มีประโยชน์ รวมถึงฟลาโวนอยด์ (Flavonoids) และ แอนโธไซยานิน (Anthocyanins) มีฤทธิ์ต้านปฏิกิริยาออกซิเดชั่นที่ดีเลิศ (Powerful antioxidant) เพราะฉะนั้นการเลือกทาน #เอลเดอร์เบอร์รี่ หรืออาหารเสริมที่มีสารสะกัดจากเอลเดอร์เบอร์รี่ ก็จะเป็นผลดีต่อสุขภาพร่างกาย และผิวพรรณจ้า   \n",
       "19151  TOYOTA มาพร้อมแนวคิด “LIVE ALIVE…Live Ever Better ออกไป….ใช้ชีวิต” กับเทคโนโลยีใหม่ล่าสุดที่ทำให้ทุกชีวิตไปได้ไกลกว่า พาท่องโลกกว้าง ได้อย่างมั่นใจในทุกเส้นทาง พร้อมจัดแสดง 4 เทคโนโลยีใหม่ มาตรฐานรถยนต์โตโยต้า เพื่อตอบสนองในทุกรูปแบบของการใช้ชีวิตที่ไร้ขีดจำกัด เริ่มต้นด้วยระบบไฮบริดเจเนอเรชั่นที่ 4 ที่พัฒนาแบตเตอรี่ใหม่ให้มีประสิทธิภาพสูงขึ้น เพื่อความทนทานและประหยัดน้ำมันยิ่งขึ้น สถาปัตยกรรมโครงสร้างยานยนต์ใหม่ (Toyota New Global Architecture หรือ TNGA) สร้างประสบการณ์การขับขี่ที่เร้าใจกว่าเคย มาตรฐานความปลอดภัยใหม่ระดับโลก (Toyota Safety Sense หรือ TSS) มาตรฐานความปลอดภัยใหม่เพื่อทุกชีวิต และท้ายสุดกับ Toyota T-Connect Telematics เชื่อมต่อทุกเส้นทางอย่างสมบูรณ์แบบ พระเอกคงหนีไม่พ้น All New Toyota CH-R ..เอาเป็นว่าตามไปล้ำกันได้ทุกวันตั้งแต่วันนี้ ถึง 8 เมษายนนี้ที่งานมอเตอร์โชว์ ครั้งที่ 39 เมืองทองธานี   \n",
       "3290                                                                                                                                                                                                                                                                                                                                                                                                                                                                                                                                                                                                                                                                                                                                                                                                       โฆษณาให้Toyota ด้วย น่าร๊าก พี่วุฒิคงยิ้มแฉ่ง   \n",
       "18280                                                                                                                                                                                                                                                                                                                                                                                                                                                                                                              จัดส่ง 31 มี.ค. 61 #แป้งเจ้านาง #แป้งพัฟเจ้านาง #Chaonangthailand #Chaonangthailandofficial #แป้งพัฟ #แป้ง #แป้งพัพถูกและดี #แป้งผสมกันแดดที่ดีที่สุดในยุค #แป้งผสมรองพื้น #แป้งพัฟคุมมัน #ลิปเจ้านาง #ลิปแมทเจ้านาง #ลิปแมท สอบถาม-สั่งซื้อ-สมัครตัวแทน โทร. 088-888-8888 📲Line : @chaonangth 📩Inbox : m.me/chaonangthailandofficial   \n",
       "2214                                                                                                                                                                                                                                                                                                                                                                                                                                                                                                                                                                                                                                                                                                                                                                                                                              ก้อยากกกกกเป้นตาแซ่บบบ   \n",
       "\n",
       "      sentiment  \\\n",
       "9785    neutral   \n",
       "3211   positive   \n",
       "15585   neutral   \n",
       "6072    neutral   \n",
       "26087  negative   \n",
       "18985   neutral   \n",
       "19151   neutral   \n",
       "3290   positive   \n",
       "18280   neutral   \n",
       "2214   positive   \n",
       "\n",
       "                                                                                                                                                                                                                                                                                                                                                                                                                                                                                                                                                                                                                                                                                                                                                                                                                                                         preprocessed_text  \n",
       "9785                                                                                                                                                                                                                                                                                                                                                                                                                                                                                                                                                                                                                                                                                                                                                                                                                                                       mu x the iconic  \n",
       "3211                                                                                                                                                                                                                                                                                                                                                                                                                                                                                                                                                                                                                                                                                                                                                                                                               กูไม่กินเบียร์ กินแค่ WSNUMBER b WSNUMBER smirnoff โชจู  \n",
       "15585                                                                                                                                                                                                                                                                                                                                                                                                                                                                                                                                                                                                                                                                                                                                                         ความสวยกินกันไม่ลงจริงๆ เทียบสเป็ค toyota c hr และ honda hr v WSNUMBER รุ่นท็อปทั้งคู่ อ็อพชั่นใครแน่นกว่า ?  \n",
       "6072                                                                                                                                                                                                                                                                                                                                                                                                                                                                                                                                                                                                                                                                                                                                                                                                                                                             พาแม่ไปซิ  \n",
       "26087                                                                                                                                                                                                                                                                                                                                                                                                     ม่ายๆละคะ ขนาดผ้าอนามัยแบบสอดยังใช้ไม่ได้ อันนี้ใหญ่กว่า จะใส่ยังไง ใช้เสร็จมีการนำมาใช้อีกไม่เอา หรอก อีกอย่างสรีระ คนไทยกับต่างชาติไม่เหมือนกันนะ ความยืดหยุ่นเค้าอจมีเ้ยอะกว่า จะสอดใส่ยังไงก้อได้ แต่คนไทยคงไม่เหมาะ ใส่แบบผ้าอนามัย แบบเดิมดีอยู่ละคะ ยังไง WSNUMBER WSNUMBER ชม เราก้อ เราก้อเข้าห้องน้ำอยู่แล้ว เราเป็นคนแพ้ผ้าอนามัย ทุกเดือนที่เป็น จะเป็็นผื่น แต่พอมีแบบ นุ่มนวลต่อผิว จะเลือกใช้ถึงราคาจะสูงกว่าแต่ พอเมนหายไม่ต้องมารักษาผื่นแพ้อีก  \n",
       "18985                                                                                                                                                                                                                                   เอลเดอร์เบอร์รี่ เป็นผลเบอร์รี่ขนาดเล็กเป็นพวงสี่ม่วงเข้ม มีถิ่นกำเนิดในยุโรป อเมริกาเหนือ และเอเชีย ซึ่งผลไม้นี้ประกอบด้วย สารแอนตี้ออกซิแดนท์ที่แตกต่างกันสูงถึง WSNUMBER ชนิด ทำให้มีผลในการรักษาสุขภาพของหัวใจและหลอดเลือดหัวใจได้อย่างดี และกระตุ้นระบบภูมิคุ้มกัน และมีสารอาหารที่จำเป็นต่อระบบภูมิคุ้มกันของร่างกาย โดยมีวิตามินซี กรดผลไม้และน้ำมันที่มีประโยชน์ รวมถึงฟลาโวนอยด์ flavonoids และ แอนโธไซยานิน anthocyanins มีฤทธิ์ต้านปฏิกิริยาออกซิเดชั่นที่ดีเลิศ powerful antioxidant เพราะฉะนั้นการเลือกทาน เอลเดอร์เบอร์รี่ หรืออาหารเสริมที่มีสารสะกัดจากเอลเดอร์เบอร์รี่ ก็จะเป็นผลดีต่อสุขภาพร่างกาย และผิวพรรณจ้า  \n",
       "19151  toyota มาพร้อมแนวคิด live alive live ever better ออกไป ใช้ชีวิต กับเทคโนโลยีใหม่ล่าสุดที่ทำให้ทุกชีวิตไปได้ไกลกว่า พาท่องโลกกว้าง ได้อย่างมั่นใจในทุกเส้นทาง พร้อมจัดแสดง WSNUMBER เทคโนโลยีใหม่ มาตรฐานรถยนต์โตโยต้า เพื่อตอบสนองในทุกรูปแบบของการใช้ชีวิตที่ไร้ขีดจำกัด เริ่มต้นด้วยระบบไฮบริดเจเนอเรชั่นที่ WSNUMBER ที่พัฒนาแบตเตอรี่ใหม่ให้มีประสิทธิภาพสูงขึ้น เพื่อความทนทานและประหยัดน้ำมันยิ่งขึ้น สถาปัตยกรรมโครงสร้างยานยนต์ใหม่ toyota new global architecture หรือ tnga สร้างประสบการณ์การขับขี่ที่เร้าใจกว่าเคย มาตรฐานความปลอดภัยใหม่ระดับโลก toyota safety sense หรือ tss มาตรฐานความปลอดภัยใหม่เพื่อทุกชีวิต และท้ายสุดกับ toyota t connect telematics เชื่อมต่อทุกเส้นทางอย่างสมบูรณ์แบบ พระเอกคงหนีไม่พ้น all new toyota ch r เอาเป็นว่าตามไปล้ำกันได้ทุกวันตั้งแต่วันนี้ ถึง WSNUMBER เมษายนนี้ที่งานมอเตอร์โชว์ ครั้งที่ WSNUMBER เมืองทองธานี  \n",
       "3290                                                                                                                                                                                                                                                                                                                                                                                                                                                                                                                                                                                                                                                                                                                                                                                                                        โฆษณาให้ toyota ด้วย น่าร๊าก พี่วุฒิคงยิ้มแฉ่ง  \n",
       "18280                                                                                                                                                                                                                                                                                                                                                                                                                                                                                                                                                   จัดส่ง WSNUMBER มี ค WSNUMBER แป้งเจ้านาง แป้งพัฟเจ้านาง chaonangthailand chaonangthailandofficial แป้งพัฟ แป้ง แป้งพัพถูกและดี แป้งผสมกันแดดที่ดีที่สุดในยุค แป้งผสมรองพื้น แป้งพัฟคุมมัน ลิปเจ้านาง ลิปแมทเจ้านาง ลิปแมท สอบถาม สั่งซื้อ สมัครตัวแทน โทร WSPHONE line WSNAME inbox m me chaonangthailandofficial  \n",
       "2214                                                                                                                                                                                                                                                                                                                                                                                                                                                                                                                                                                                                                                                                                                                                                                                                                                                ก้อยากกกกกเป้นตาแซ่บบบ  "
      ],
      "text/html": "<div>\n<style scoped>\n    .dataframe tbody tr th:only-of-type {\n        vertical-align: middle;\n    }\n\n    .dataframe tbody tr th {\n        vertical-align: top;\n    }\n\n    .dataframe thead th {\n        text-align: right;\n    }\n</style>\n<table border=\"1\" class=\"dataframe\">\n  <thead>\n    <tr style=\"text-align: right;\">\n      <th></th>\n      <th>text</th>\n      <th>sentiment</th>\n      <th>preprocessed_text</th>\n    </tr>\n  </thead>\n  <tbody>\n    <tr>\n      <th>9785</th>\n      <td>MU-X THE ICONIC😊😊😊😊</td>\n      <td>neutral</td>\n      <td>mu x the iconic</td>\n    </tr>\n    <tr>\n      <th>3211</th>\n      <td>กูไม่กินเบียร์ กินแค่285 B52 Smirnoff โชจู</td>\n      <td>positive</td>\n      <td>กูไม่กินเบียร์ กินแค่ WSNUMBER b WSNUMBER smirnoff โชจู</td>\n    </tr>\n    <tr>\n      <th>15585</th>\n      <td>ความสวยกินกันไม่ลงจริงๆ....เทียบสเป็ค Toyota C-HR และ Honda HR-V 2018 รุ่นท็อปทั้งคู่ อ็อพชั่นใครแน่นกว่า?</td>\n      <td>neutral</td>\n      <td>ความสวยกินกันไม่ลงจริงๆ เทียบสเป็ค toyota c hr และ honda hr v WSNUMBER รุ่นท็อปทั้งคู่ อ็อพชั่นใครแน่นกว่า ?</td>\n    </tr>\n    <tr>\n      <th>6072</th>\n      <td>พาแม่ไปซิ</td>\n      <td>neutral</td>\n      <td>พาแม่ไปซิ</td>\n    </tr>\n    <tr>\n      <th>26087</th>\n      <td>ม่ายๆละคะ. ขนาดผ้าอนามัยแบบสอดยังใช้ไม่ได้ อันนี้ใหญ่กว่า. จะใส่ยังไง. ใช้เสร็จมีการนำมาใช้อีกไม่เอา หรอก. อีกอย่างสรีระ คนไทยกับต่างชาติไม่เหมือนกันนะ ความยืดหยุ่นเค้าอจมีเ้ยอะกว่า. จะสอดใส่ยังไงก้อได้ แต่คนไทยคงไม่เหมาะ. ใส่แบบผ้าอนามัย แบบเดิมดีอยู่ละคะ. ยังไง4-5ชม.เราก้อ. เราก้อเข้าห้องน้ำอยู่แล้ว. เราเป็นคนแพ้ผ้าอนามัย. ทุกเดือนที่เป็น. จะเป็็นผื่น. แต่พอมีแบบ นุ่มนวลต่อผิว จะเลือกใช้ถึงราคาจะสูงกว่าแต่ พอเมนหายไม่ต้องมารักษาผื่นแพ้อีก.</td>\n      <td>negative</td>\n      <td>ม่ายๆละคะ ขนาดผ้าอนามัยแบบสอดยังใช้ไม่ได้ อันนี้ใหญ่กว่า จะใส่ยังไง ใช้เสร็จมีการนำมาใช้อีกไม่เอา หรอก อีกอย่างสรีระ คนไทยกับต่างชาติไม่เหมือนกันนะ ความยืดหยุ่นเค้าอจมีเ้ยอะกว่า จะสอดใส่ยังไงก้อได้ แต่คนไทยคงไม่เหมาะ ใส่แบบผ้าอนามัย แบบเดิมดีอยู่ละคะ ยังไง WSNUMBER WSNUMBER ชม เราก้อ เราก้อเข้าห้องน้ำอยู่แล้ว เราเป็นคนแพ้ผ้าอนามัย ทุกเดือนที่เป็น จะเป็็นผื่น แต่พอมีแบบ นุ่มนวลต่อผิว จะเลือกใช้ถึงราคาจะสูงกว่าแต่ พอเมนหายไม่ต้องมารักษาผื่นแพ้อีก</td>\n    </tr>\n    <tr>\n      <th>18985</th>\n      <td>เอลเดอร์เบอร์รี่ เป็นผลเบอร์รี่ขนาดเล็กเป็นพวงสี่ม่วงเข้ม มีถิ่นกำเนิดในยุโรป อเมริกาเหนือ และเอเชีย ซึ่งผลไม้นี้ประกอบด้วย สารแอนตี้ออกซิแดนท์ที่แตกต่างกันสูงถึง 60 ชนิด ทำให้มีผลในการรักษาสุขภาพของหัวใจและหลอดเลือดหัวใจได้อย่างดี และกระตุ้นระบบภูมิคุ้มกัน และมีสารอาหารที่จำเป็นต่อระบบภูมิคุ้มกันของร่างกาย โดยมีวิตามินซี กรดผลไม้และน้ำมันที่มีประโยชน์ รวมถึงฟลาโวนอยด์ (Flavonoids) และ แอนโธไซยานิน (Anthocyanins) มีฤทธิ์ต้านปฏิกิริยาออกซิเดชั่นที่ดีเลิศ (Powerful antioxidant) เพราะฉะนั้นการเลือกทาน #เอลเดอร์เบอร์รี่ หรืออาหารเสริมที่มีสารสะกัดจากเอลเดอร์เบอร์รี่ ก็จะเป็นผลดีต่อสุขภาพร่างกาย และผิวพรรณจ้า</td>\n      <td>neutral</td>\n      <td>เอลเดอร์เบอร์รี่ เป็นผลเบอร์รี่ขนาดเล็กเป็นพวงสี่ม่วงเข้ม มีถิ่นกำเนิดในยุโรป อเมริกาเหนือ และเอเชีย ซึ่งผลไม้นี้ประกอบด้วย สารแอนตี้ออกซิแดนท์ที่แตกต่างกันสูงถึง WSNUMBER ชนิด ทำให้มีผลในการรักษาสุขภาพของหัวใจและหลอดเลือดหัวใจได้อย่างดี และกระตุ้นระบบภูมิคุ้มกัน และมีสารอาหารที่จำเป็นต่อระบบภูมิคุ้มกันของร่างกาย โดยมีวิตามินซี กรดผลไม้และน้ำมันที่มีประโยชน์ รวมถึงฟลาโวนอยด์ flavonoids และ แอนโธไซยานิน anthocyanins มีฤทธิ์ต้านปฏิกิริยาออกซิเดชั่นที่ดีเลิศ powerful antioxidant เพราะฉะนั้นการเลือกทาน เอลเดอร์เบอร์รี่ หรืออาหารเสริมที่มีสารสะกัดจากเอลเดอร์เบอร์รี่ ก็จะเป็นผลดีต่อสุขภาพร่างกาย และผิวพรรณจ้า</td>\n    </tr>\n    <tr>\n      <th>19151</th>\n      <td>TOYOTA มาพร้อมแนวคิด “LIVE ALIVE…Live Ever Better ออกไป….ใช้ชีวิต” กับเทคโนโลยีใหม่ล่าสุดที่ทำให้ทุกชีวิตไปได้ไกลกว่า พาท่องโลกกว้าง ได้อย่างมั่นใจในทุกเส้นทาง พร้อมจัดแสดง 4 เทคโนโลยีใหม่ มาตรฐานรถยนต์โตโยต้า เพื่อตอบสนองในทุกรูปแบบของการใช้ชีวิตที่ไร้ขีดจำกัด เริ่มต้นด้วยระบบไฮบริดเจเนอเรชั่นที่ 4 ที่พัฒนาแบตเตอรี่ใหม่ให้มีประสิทธิภาพสูงขึ้น เพื่อความทนทานและประหยัดน้ำมันยิ่งขึ้น สถาปัตยกรรมโครงสร้างยานยนต์ใหม่ (Toyota New Global Architecture หรือ TNGA) สร้างประสบการณ์การขับขี่ที่เร้าใจกว่าเคย มาตรฐานความปลอดภัยใหม่ระดับโลก (Toyota Safety Sense หรือ TSS) มาตรฐานความปลอดภัยใหม่เพื่อทุกชีวิต และท้ายสุดกับ Toyota T-Connect Telematics เชื่อมต่อทุกเส้นทางอย่างสมบูรณ์แบบ พระเอกคงหนีไม่พ้น All New Toyota CH-R ..เอาเป็นว่าตามไปล้ำกันได้ทุกวันตั้งแต่วันนี้ ถึง 8 เมษายนนี้ที่งานมอเตอร์โชว์ ครั้งที่ 39 เมืองทองธานี</td>\n      <td>neutral</td>\n      <td>toyota มาพร้อมแนวคิด live alive live ever better ออกไป ใช้ชีวิต กับเทคโนโลยีใหม่ล่าสุดที่ทำให้ทุกชีวิตไปได้ไกลกว่า พาท่องโลกกว้าง ได้อย่างมั่นใจในทุกเส้นทาง พร้อมจัดแสดง WSNUMBER เทคโนโลยีใหม่ มาตรฐานรถยนต์โตโยต้า เพื่อตอบสนองในทุกรูปแบบของการใช้ชีวิตที่ไร้ขีดจำกัด เริ่มต้นด้วยระบบไฮบริดเจเนอเรชั่นที่ WSNUMBER ที่พัฒนาแบตเตอรี่ใหม่ให้มีประสิทธิภาพสูงขึ้น เพื่อความทนทานและประหยัดน้ำมันยิ่งขึ้น สถาปัตยกรรมโครงสร้างยานยนต์ใหม่ toyota new global architecture หรือ tnga สร้างประสบการณ์การขับขี่ที่เร้าใจกว่าเคย มาตรฐานความปลอดภัยใหม่ระดับโลก toyota safety sense หรือ tss มาตรฐานความปลอดภัยใหม่เพื่อทุกชีวิต และท้ายสุดกับ toyota t connect telematics เชื่อมต่อทุกเส้นทางอย่างสมบูรณ์แบบ พระเอกคงหนีไม่พ้น all new toyota ch r เอาเป็นว่าตามไปล้ำกันได้ทุกวันตั้งแต่วันนี้ ถึง WSNUMBER เมษายนนี้ที่งานมอเตอร์โชว์ ครั้งที่ WSNUMBER เมืองทองธานี</td>\n    </tr>\n    <tr>\n      <th>3290</th>\n      <td>โฆษณาให้Toyota ด้วย น่าร๊าก พี่วุฒิคงยิ้มแฉ่ง</td>\n      <td>positive</td>\n      <td>โฆษณาให้ toyota ด้วย น่าร๊าก พี่วุฒิคงยิ้มแฉ่ง</td>\n    </tr>\n    <tr>\n      <th>18280</th>\n      <td>จัดส่ง 31 มี.ค. 61 #แป้งเจ้านาง #แป้งพัฟเจ้านาง #Chaonangthailand #Chaonangthailandofficial #แป้งพัฟ #แป้ง #แป้งพัพถูกและดี #แป้งผสมกันแดดที่ดีที่สุดในยุค #แป้งผสมรองพื้น #แป้งพัฟคุมมัน #ลิปเจ้านาง #ลิปแมทเจ้านาง #ลิปแมท สอบถาม-สั่งซื้อ-สมัครตัวแทน โทร. 088-888-8888 📲Line : @chaonangth 📩Inbox : m.me/chaonangthailandofficial</td>\n      <td>neutral</td>\n      <td>จัดส่ง WSNUMBER มี ค WSNUMBER แป้งเจ้านาง แป้งพัฟเจ้านาง chaonangthailand chaonangthailandofficial แป้งพัฟ แป้ง แป้งพัพถูกและดี แป้งผสมกันแดดที่ดีที่สุดในยุค แป้งผสมรองพื้น แป้งพัฟคุมมัน ลิปเจ้านาง ลิปแมทเจ้านาง ลิปแมท สอบถาม สั่งซื้อ สมัครตัวแทน โทร WSPHONE line WSNAME inbox m me chaonangthailandofficial</td>\n    </tr>\n    <tr>\n      <th>2214</th>\n      <td>ก้อยากกกกกเป้นตาแซ่บบบ</td>\n      <td>positive</td>\n      <td>ก้อยากกกกกเป้นตาแซ่บบบ</td>\n    </tr>\n  </tbody>\n</table>\n</div>"
     },
     "metadata": {},
     "execution_count": 8
    }
   ],
   "source": [
    "ws_df.sample(10)"
   ]
  },
  {
   "cell_type": "code",
   "execution_count": 9,
   "metadata": {},
   "outputs": [
    {
     "output_type": "execute_result",
     "data": {
      "text/plain": [
       "neutral     14518\n",
       "negative     6816\n",
       "positive     4734\n",
       "Name: sentiment, dtype: int64"
      ]
     },
     "metadata": {},
     "execution_count": 9
    }
   ],
   "source": [
    "ws_df['sentiment'].value_counts()"
   ]
  },
  {
   "source": [
    "## Splitting Dataset into Training and Test Sets"
   ],
   "cell_type": "markdown",
   "metadata": {}
  },
  {
   "cell_type": "code",
   "execution_count": 10,
   "metadata": {},
   "outputs": [],
   "source": [
    "ws_train, ws_test = train_test_split(ws_df, test_size=0.1, random_state=SEED)"
   ]
  },
  {
   "source": [
    "## Word Frequency Counting\n",
    "The most common and straightforward technique to transform each sequence of words to a feature vector, it is also called CountVectorizer for scikit-learn library."
   ],
   "cell_type": "markdown",
   "metadata": {}
  },
  {
   "cell_type": "code",
   "execution_count": 11,
   "metadata": {},
   "outputs": [
    {
     "output_type": "stream",
     "name": "stdout",
     "text": [
      "CPU times: user 1min 9s, sys: 1.74 s, total: 1min 11s\nWall time: 2min 1s\n"
     ]
    },
    {
     "output_type": "execute_result",
     "data": {
      "text/plain": [
       "Pipeline(steps=[('thaipreprocessor', ThaiPreprocessor()),\n",
       "                ('thaitokenizer', ThaiTokenizer()),\n",
       "                ('countvectorizer',\n",
       "                 CountVectorizer(preprocessor=<function dummy at 0x1261a4670>,\n",
       "                                 tokenizer=<function dummy at 0x1261a4670>)),\n",
       "                ('logisticregression',\n",
       "                 LogisticRegression(n_jobs=-1, random_state=3))])"
      ]
     },
     "metadata": {},
     "execution_count": 11
    }
   ],
   "source": [
    "pipeline_count = make_pipeline(\n",
    "    ThaiPreprocessor(),\n",
    "    ThaiTokenizer(),\n",
    "    CountVectorizer(preprocessor=dummy, tokenizer=dummy),\n",
    "    LogisticRegression(random_state=SEED, n_jobs=-1)\n",
    ")\n",
    "\n",
    "%time pipeline_count.fit(ws_train['text'], ws_train['sentiment'])"
   ]
  },
  {
   "cell_type": "code",
   "execution_count": 12,
   "metadata": {},
   "outputs": [],
   "source": [
    "predicted = pipeline_count.predict(ws_test['text'])"
   ]
  },
  {
   "cell_type": "code",
   "execution_count": 13,
   "metadata": {},
   "outputs": [
    {
     "output_type": "stream",
     "name": "stdout",
     "text": [
      "              precision    recall  f1-score   support\n\n    negative     0.7544    0.6321    0.6878       685\n     neutral     0.7104    0.8597    0.7779      1418\n    positive     0.5931    0.3730    0.4580       504\n\n    accuracy                         0.7058      2607\n   macro avg     0.6859    0.6216    0.6412      2607\nweighted avg     0.6992    0.7058    0.6924      2607\n\n"
     ]
    }
   ],
   "source": [
    "print(classification_report(ws_test['sentiment'], predicted, digits=4))"
   ]
  },
  {
   "source": [
    "## Term Frequency-Inverse Document Frequency (TF-IDF)\n",
    "Typically, TF-IDF is one of well-known feature transformation techniques. There are different points between word frequency and TF-IDF techniques, TF-IDF can capture dominant words for each document in a dataset. Not just counting the word occurrence, TF-IDF normalizes word counts in a focus document with others in the same dataset. However, these techniques are limited to the certain dataset and also fall into an Out of Vocabulary (OOV) problem."
   ],
   "cell_type": "markdown",
   "metadata": {}
  },
  {
   "cell_type": "code",
   "execution_count": 14,
   "metadata": {},
   "outputs": [
    {
     "output_type": "stream",
     "name": "stdout",
     "text": [
      "CPU times: user 1min 30s, sys: 2.26 s, total: 1min 32s\nWall time: 2min 48s\n"
     ]
    },
    {
     "output_type": "execute_result",
     "data": {
      "text/plain": [
       "Pipeline(steps=[('thaipreprocessor', ThaiPreprocessor()),\n",
       "                ('thaitokenizer', ThaiTokenizer()),\n",
       "                ('tfidfvectorizer',\n",
       "                 TfidfVectorizer(preprocessor=<function dummy at 0x1261a4670>,\n",
       "                                 tokenizer=<function dummy at 0x1261a4670>)),\n",
       "                ('logisticregression',\n",
       "                 LogisticRegression(n_jobs=-1, random_state=3))])"
      ]
     },
     "metadata": {},
     "execution_count": 14
    }
   ],
   "source": [
    "pipeline_tfidf = make_pipeline(\n",
    "    ThaiPreprocessor(),\n",
    "    ThaiTokenizer(),\n",
    "    TfidfVectorizer(preprocessor=dummy, tokenizer=dummy),\n",
    "    LogisticRegression(random_state=SEED, n_jobs=-1)\n",
    ")\n",
    "%time pipeline_tfidf.fit(ws_train['text'], ws_train['sentiment'])"
   ]
  },
  {
   "cell_type": "code",
   "execution_count": 15,
   "metadata": {},
   "outputs": [],
   "source": [
    "predicted = pipeline_tfidf.predict(ws_test['text'])"
   ]
  },
  {
   "cell_type": "code",
   "execution_count": 16,
   "metadata": {},
   "outputs": [
    {
     "output_type": "stream",
     "name": "stdout",
     "text": [
      "              precision    recall  f1-score   support\n\n    negative     0.7556    0.6409    0.6935       685\n     neutral     0.7036    0.8822    0.7829      1418\n    positive     0.6774    0.3333    0.4468       504\n\n    accuracy                         0.7127      2607\n   macro avg     0.7122    0.6188    0.6411      2607\nweighted avg     0.7122    0.7127    0.6944      2607\n\n"
     ]
    }
   ],
   "source": [
    "print(classification_report(ws_test['sentiment'], predicted, digits=4))"
   ]
  },
  {
   "source": [
    "## Word Embedding as Vectorizer\n",
    "According the OOV problem, word embedding is one of techniques to address the problem. Word Embedding is a Language Model (LM), It is trained from a large corpus, it encode each word into vector, encoded vectors represent words. The embedding model can be applied to predict next word from a given context and also captures semantic between words. In order to use the embedding model as a vectorizer, a given sentence are encoded to each vector and average them to represent the sentence."
   ],
   "cell_type": "markdown",
   "metadata": {}
  },
  {
   "cell_type": "code",
   "execution_count": 17,
   "metadata": {},
   "outputs": [],
   "source": [
    "# load pre-trained word embedding model\n",
    "w2v_model = Word2Vec.load(\"models/tweet_embedding_256.model\")"
   ]
  },
  {
   "cell_type": "code",
   "execution_count": 18,
   "metadata": {},
   "outputs": [
    {
     "output_type": "stream",
     "name": "stdout",
     "text": [
      "CPU times: user 1min 25s, sys: 2.1 s, total: 1min 27s\nWall time: 2min 48s\n"
     ]
    },
    {
     "output_type": "execute_result",
     "data": {
      "text/plain": [
       "Pipeline(steps=[('thaipreprocessor', ThaiPreprocessor()),\n",
       "                ('thaitokenizer', ThaiTokenizer()),\n",
       "                ('meanembeddingvectorizer',\n",
       "                 <pipeline.MeanEmbeddingVectorizer object at 0x12d7778e0>),\n",
       "                ('logisticregression',\n",
       "                 LogisticRegression(n_jobs=-1, random_state=3))])"
      ]
     },
     "metadata": {},
     "execution_count": 18
    }
   ],
   "source": [
    "pipeline_w2v = make_pipeline(\n",
    "    ThaiPreprocessor(),\n",
    "    ThaiTokenizer(),\n",
    "    MeanEmbeddingVectorizer(w2v_model=w2v_model),\n",
    "    LogisticRegression(random_state=SEED, n_jobs=-1)\n",
    ")\n",
    "%time pipeline_w2v.fit(ws_train['text'], ws_train['sentiment'])"
   ]
  },
  {
   "cell_type": "code",
   "execution_count": 19,
   "metadata": {},
   "outputs": [],
   "source": [
    "predicted = pipeline_w2v.predict(ws_test['text'])"
   ]
  },
  {
   "cell_type": "code",
   "execution_count": 20,
   "metadata": {},
   "outputs": [
    {
     "output_type": "stream",
     "name": "stdout",
     "text": [
      "              precision    recall  f1-score   support\n\n    negative     0.6161    0.5153    0.5612       685\n     neutral     0.6421    0.8188    0.7198      1418\n    positive     0.6062    0.2718    0.3753       504\n\n    accuracy                         0.6333      2607\n   macro avg     0.6215    0.5353    0.5521      2607\nweighted avg     0.6283    0.6333    0.6115      2607\n\n"
     ]
    }
   ],
   "source": [
    "print(classification_report(ws_test['sentiment'], predicted, digits=4))"
   ]
  },
  {
   "source": [
    "## Predicting Messages"
   ],
   "cell_type": "markdown",
   "metadata": {}
  },
  {
   "cell_type": "code",
   "execution_count": 21,
   "metadata": {},
   "outputs": [],
   "source": [
    "test_df = ws_test[['text', 'sentiment']]\n",
    "\n",
    "test_df['count_vectorizer'] = test_df['text'].apply(lambda text: pipeline_count.predict(text)[0])\n",
    "test_df['tfidf_vectorizer'] = test_df['text'].apply(lambda text: pipeline_tfidf.predict(text)[0])\n",
    "test_df['mean_embedding_vectorizer'] = test_df['text'].apply(lambda text: pipeline_w2v.predict(text)[0])"
   ]
  },
  {
   "cell_type": "code",
   "execution_count": 22,
   "metadata": {},
   "outputs": [
    {
     "output_type": "execute_result",
     "data": {
      "text/plain": [
       "                                                                                                                                                                                                                                           text  \\\n",
       "20008                                                                                                                                                                                                                     เมกาบางนา ไม่ร่วมเด้อ   \n",
       "25748  ทีมขุนเรืองฟังทางนี้!! ถ้าอยากเป็นผู้โชคดี ไปใกล้ชิดกับ ปั้นจั่น ปรมะ ในกิจกรรม Cool Day Fine Way กับ สุดสัปดาห์ และ มิตซูบิชิ แอททราจ ไปที่ Facebook สุดสัปดาห์แฟนคลับ หรือ Mitsubishi Motors Thailand ด่วนๆ พลาดแล้วจะเสียใจนะบอกเลย!!   \n",
       "21156                                                                                                                                                                                                           มันเกี่ยวกับภาษีที่จะหดหายล้วนๆ   \n",
       "7721                                                                                                                                                                                                                            มันอันตรายนะจ่า   \n",
       "22693                                                                                                                                                                                บาบีกอนบอกไม่ใช่พยาธิ แต่เป็นอีสิ่งนี้ น่าสะพรึงกลัวพอๆกัน   \n",
       "\n",
       "      sentiment  \\\n",
       "20008  negative   \n",
       "25748  negative   \n",
       "21156  negative   \n",
       "7721    neutral   \n",
       "22693  negative   \n",
       "\n",
       "                                                                                                                                                                                                                                  preprocessed_text  \n",
       "20008                                                                                                                                                                                                                         เมกาบางนา ไม่ร่วมเด้อ  \n",
       "25748  ทีมขุนเรืองฟังทางนี้ ! ! ถ้าอยากเป็นผู้โชคดี ไปใกล้ชิดกับ ปั้นจั่น ปรมะ ในกิจกรรม cool day fine way กับ สุดสัปดาห์ และ มิตซูบิชิ แอททราจ ไปที่ facebook สุดสัปดาห์แฟนคลับ หรือ mitsubishi motors thailand ด่วนๆ พลาดแล้วจะเสียใจนะบอกเลย ! !  \n",
       "21156                                                                                                                                                                                                               มันเกี่ยวกับภาษีที่จะหดหายล้วนๆ  \n",
       "7721                                                                                                                                                                                                                                มันอันตรายนะจ่า  \n",
       "22693                                                                                                                                                                                    บาบีกอนบอกไม่ใช่พยาธิ แต่เป็นอีสิ่งนี้ น่าสะพรึงกลัวพอๆกัน  "
      ],
      "text/html": "<div>\n<style scoped>\n    .dataframe tbody tr th:only-of-type {\n        vertical-align: middle;\n    }\n\n    .dataframe tbody tr th {\n        vertical-align: top;\n    }\n\n    .dataframe thead th {\n        text-align: right;\n    }\n</style>\n<table border=\"1\" class=\"dataframe\">\n  <thead>\n    <tr style=\"text-align: right;\">\n      <th></th>\n      <th>text</th>\n      <th>sentiment</th>\n      <th>preprocessed_text</th>\n    </tr>\n  </thead>\n  <tbody>\n    <tr>\n      <th>20008</th>\n      <td>เมกาบางนา ไม่ร่วมเด้อ</td>\n      <td>negative</td>\n      <td>เมกาบางนา ไม่ร่วมเด้อ</td>\n    </tr>\n    <tr>\n      <th>25748</th>\n      <td>ทีมขุนเรืองฟังทางนี้!! ถ้าอยากเป็นผู้โชคดี ไปใกล้ชิดกับ ปั้นจั่น ปรมะ ในกิจกรรม Cool Day Fine Way กับ สุดสัปดาห์ และ มิตซูบิชิ แอททราจ ไปที่ Facebook สุดสัปดาห์แฟนคลับ หรือ Mitsubishi Motors Thailand ด่วนๆ พลาดแล้วจะเสียใจนะบอกเลย!!</td>\n      <td>negative</td>\n      <td>ทีมขุนเรืองฟังทางนี้ ! ! ถ้าอยากเป็นผู้โชคดี ไปใกล้ชิดกับ ปั้นจั่น ปรมะ ในกิจกรรม cool day fine way กับ สุดสัปดาห์ และ มิตซูบิชิ แอททราจ ไปที่ facebook สุดสัปดาห์แฟนคลับ หรือ mitsubishi motors thailand ด่วนๆ พลาดแล้วจะเสียใจนะบอกเลย ! !</td>\n    </tr>\n    <tr>\n      <th>21156</th>\n      <td>มันเกี่ยวกับภาษีที่จะหดหายล้วนๆ</td>\n      <td>negative</td>\n      <td>มันเกี่ยวกับภาษีที่จะหดหายล้วนๆ</td>\n    </tr>\n    <tr>\n      <th>7721</th>\n      <td>มันอันตรายนะจ่า</td>\n      <td>neutral</td>\n      <td>มันอันตรายนะจ่า</td>\n    </tr>\n    <tr>\n      <th>22693</th>\n      <td>บาบีกอนบอกไม่ใช่พยาธิ แต่เป็นอีสิ่งนี้ น่าสะพรึงกลัวพอๆกัน</td>\n      <td>negative</td>\n      <td>บาบีกอนบอกไม่ใช่พยาธิ แต่เป็นอีสิ่งนี้ น่าสะพรึงกลัวพอๆกัน</td>\n    </tr>\n  </tbody>\n</table>\n</div>"
     },
     "metadata": {},
     "execution_count": 22
    }
   ],
   "source": [
    "ws_test.sample(5)"
   ]
  }
 ]
}